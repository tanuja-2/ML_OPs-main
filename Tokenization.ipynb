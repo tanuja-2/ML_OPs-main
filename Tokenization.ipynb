{
  "nbformat": 4,
  "nbformat_minor": 0,
  "metadata": {
    "colab": {
      "provenance": [],
      "private_outputs": true,
      "include_colab_link": true
    },
    "kernelspec": {
      "name": "python3",
      "display_name": "Python 3"
    },
    "gpuClass": "standard"
  },
  "cells": [
    {
      "cell_type": "markdown",
      "metadata": {
        "id": "view-in-github",
        "colab_type": "text"
      },
      "source": [
        "<a href=\"https://colab.research.google.com/github/tanuja-2/ML_OPs-main/blob/main/Tokenization.ipynb\" target=\"_parent\"><img src=\"https://colab.research.google.com/assets/colab-badge.svg\" alt=\"Open In Colab\"/></a>"
      ]
    },
    {
      "cell_type": "markdown",
      "source": [],
      "metadata": {
        "id": "j_PxpiV3WB67"
      }
    },
    {
      "metadata": {
        "id": "PBoOogzMLVqX"
      },
      "cell_type": "code",
      "source": [
        "# demo of google's sentencepiece, from\n",
        "# https://github.com/google/sentencepiece/blob/master/python/sentencepiece_python_module_example.ipynb\n",
        "!pip install sentencepiece\n",
        "import sentencepiece as spm\n",
        "\n",
        "from nltk.stem import PorterStemmer\n",
        "from nltk.stem import WordNetLemmatizer \n",
        "import nltk\n",
        "nltk.download('wordnet')\n",
        "\n",
        "import spacy\n",
        "nlp = spacy.load(\"en_core_web_sm\")\n",
        "\n",
        "import nltk\n",
        "tokenizer = nltk.tokenize.casual.TweetTokenizer(preserve_case=False)\n",
        "nltk.download('omw-1.4')\n",
        "\n",
        "\n",
        "!wget https://raw.githubusercontent.com/google/sentencepiece/master/data/botchan.txt"
      ],
      "execution_count": null,
      "outputs": []
    },
    {
      "metadata": {
        "id": "QqR6-woRl0xB"
      },
      "cell_type": "code",
      "source": [
        "spm.SentencePieceTrainer.train('--input=botchan.txt --model_prefix=m --vocab_size=5000')"
      ],
      "execution_count": null,
      "outputs": []
    },
    {
      "metadata": {
        "id": "jQv7ImDInOAu"
      },
      "cell_type": "code",
      "source": [
        "sp = spm.SentencePieceProcessor()\n",
        "sp.load('m.model')"
      ],
      "execution_count": null,
      "outputs": []
    },
    {
      "metadata": {
        "id": "JYBvFW-1mfxd"
      },
      "cell_type": "code",
      "source": [
        "sentence = \"I don't think that's such a good idea.\"\n",
        "print(sentence.split())\n",
        "print([t for t in nlp(sentence)])\n",
        "print(tokenizer.tokenize(sentence))\n",
        "print(sp.encode_as_pieces(sentence))"
      ],
      "execution_count": null,
      "outputs": []
    },
    {
      "metadata": {
        "id": "vGwzb7mSmxgw"
      },
      "cell_type": "code",
      "source": [
        "sp.encode_as_pieces(\"horror flicks\")"
      ],
      "execution_count": null,
      "outputs": []
    },
    {
      "metadata": {
        "id": "kLN9X3mVnkN8"
      },
      "cell_type": "code",
      "source": [
        "sp.encode_as_pieces(\"vampire Horror movies\")"
      ],
      "execution_count": null,
      "outputs": []
    },
    {
      "cell_type": "code",
      "source": [
        "sp.encode_as_pieces(\"there is greatness here\")"
      ],
      "metadata": {
        "id": "D6nT9SlCRi2w"
      },
      "execution_count": null,
      "outputs": []
    },
    {
      "metadata": {
        "id": "P4JdeRyCnn_M"
      },
      "cell_type": "code",
      "source": [
        "ps = PorterStemmer()\n",
        "ps.stem('feet')\n"
      ],
      "execution_count": null,
      "outputs": []
    },
    {
      "cell_type": "code",
      "source": [
        "print(ps.stem('corpus'))\n",
        "print(ps.stem('striped'))\n",
        "print(ps.stem('stripes'))"
      ],
      "metadata": {
        "id": "3MkOoX_6Lrt_"
      },
      "execution_count": null,
      "outputs": []
    },
    {
      "metadata": {
        "id": "PQH8aw1uFC4K"
      },
      "cell_type": "code",
      "source": [
        "lemmatizer = WordNetLemmatizer()\n",
        "print(lemmatizer.lemmatize('feet'))\n",
        "print(lemmatizer.lemmatize('striped'))"
      ],
      "execution_count": null,
      "outputs": []
    },
    {
      "cell_type": "code",
      "source": [
        "sp.encode_as_ids(\"this is great\")"
      ],
      "metadata": {
        "id": "84GAUQCgA2AG"
      },
      "execution_count": null,
      "outputs": []
    },
    {
      "cell_type": "code",
      "source": [
        "sp.decode_ids([39,27,1114])"
      ],
      "metadata": {
        "id": "PtQNuXfJBAUN"
      },
      "execution_count": null,
      "outputs": []
    },
    {
      "cell_type": "code",
      "source": [],
      "metadata": {
        "id": "WhEAh_7bBQ5h"
      },
      "execution_count": null,
      "outputs": []
    }
  ]
}